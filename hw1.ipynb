{
 "cells": [
  {
   "cell_type": "markdown",
   "metadata": {},
   "source": [
    "## algorithm design and anlysis-2025 spring  homework 1 \n",
    "**Deadline**：2025.5.14\n",
    "\n",
    "**name**:易烨琴\n",
    "**学号**：2024321342006\n",
    "\n",
    "note：\n",
    "---\n",
    "1. 带有\\*的题目，申请免上课的同学，必须完成，其他同学选作；\n",
    "2. 请独立完成，如求助了他人或者大模型，请著明，并且不可省略算法分析部分；\n",
    "4. 如若作答有雷同，全部取消成绩；\n",
    "3. 需要书面作答的题目，可以通过引用图片的形式添加，但是注意上传项目时包含所引用的图片的源文件；\n",
    "4. $log_n$ 默认表示$log_2{n}$;"
   ]
  },
  {
   "cell_type": "markdown",
   "metadata": {},
   "source": [
    "## 问题 1\n",
    "\n",
    "对于下面的每一对表达式(A, B), A是否能表示为B的 $\\Theta, \\Omega ,O$形式. 请注意, 这些关系中的零个、一个或多个可能成立。列出所有正确的。经常发生一些学生会,把指示写错, 所以请把关系写完整, 例如: $A = O(B),  A =\\Theta(B)$, 或$A = \\Omega(B)$。\n",
    "\n",
    "1. $A=n^2-100n, B=n^2$\n",
    "2. $A=logn, B=log_{1.2}n$\n",
    "3. $A=3^{2n}, B=2^{4n}$\n",
    "4. $A=2^{logn}, B=n$\n",
    "5. $A=\\log{\\log}{n},B=10^{10^{100}}$"
   ]
  },
  {
   "cell_type": "markdown",
   "metadata": {},
   "source": [
    "can refer a handwritten picture, pleas upload the picture in /fig/xxx.png\n",
    "answer:\n"
   ]
  },
  {
   "cell_type": "markdown",
   "metadata": {},
   "source": [
    "<img src=\".\\fig\\1-1.png\" alt=\"1-1\" style=\"zoom:25%;\" />"
   ]
  },
  {
   "cell_type": "markdown",
   "metadata": {},
   "source": [
    "## 问题 2：\n",
    "\n",
    "假设有函数 $f$ 和 $g$ 使得 $f(n)$ = $O(g(n))$ 对于下面的每一个陈述, 请判断对错, 如果正确请给出证明, 否则请给出一个反例。\n",
    "\n",
    "1. $\\log{f(n)}$ = $O(\\log(1+g(n)))$\n",
    "2. $3^{f(n)}=O(3^{g(n)})$\n",
    "3. $(f(n))^2=O((g(n))^2)$ "
   ]
  },
  {
   "cell_type": "markdown",
   "metadata": {},
   "source": [
    "you can refer a handwritten picture, pleas upload the picture in /fig/xxx.png\n",
    "answer:"
   ]
  },
  {
   "cell_type": "markdown",
   "metadata": {},
   "source": [
    "<img src=\".\\fig\\1-2.png\" alt=\"1-1\" style=\"zoom:30%;\" />"
   ]
  },
  {
   "cell_type": "markdown",
   "metadata": {},
   "source": [
    "## 问题 3\n",
    "\n",
    "根据下列递归公式, 计算下列 $T(n)$ 对应的的渐近上界。要求所求的边界尽可能的紧（tight）, 请写明步骤。\n",
    "\n",
    "1. $T(1)=1; T(n)=T(n/4)+1$ for $n>1$\n",
    "2. $T(1)=1;T(n)=3T(n/3)+n^2$ for $n>1$\n",
    "3. $T(1)=1;T(n)=T(2n/3)+1$ for $n>1$\n",
    "4. $T(1)=1;T(n)=5T(n/4)+n$ for $n>1$\n",
    "5. $T(n)=1 \\ for\\ n \\le 2 ; T(n)=T(\\sqrt{n})+1 \\ for \\ n>2$"
   ]
  },
  {
   "cell_type": "markdown",
   "metadata": {},
   "source": [
    "can refer a handwritten picture, pleas upload the picture in /fig/xxx.png\n",
    "answer:"
   ]
  },
  {
   "cell_type": "markdown",
   "metadata": {},
   "source": [
    "<img src=\".\\fig\\1-3.png\" alt=\"1-1\" style=\"zoom:40%;\" />"
   ]
  },
  {
   "cell_type": "markdown",
   "metadata": {},
   "source": [
    "## 问题 4：\n",
    "\n",
    "给定一个包含n个元素的数组 `profits` , 它的第 `i` 个元素 `profits[i]` 表示一支股票第 `i` 天的**收益**（正数表示涨, 负数表示跌）。你只能选择 **某一天** 买入这只股票, 并选择在 **未来的某一个不同的日子** 卖出该股票。\n",
    "\n",
    "1. 设计一个算法来计算你所能获取的最大利润和对应买入和卖出的日期。请分析算法方案, 计算其时间复杂度, 并且使用python编程实现该算法。\n",
    "\n",
    "2. \\* 设计一个时间复杂度为 $O(n)$的算法实现该算法\n",
    "\n",
    "e.g. :\n",
    "---\n",
    "profits=[3,2,1,-7,5,2,-1,3,-1], 第5天买入, 第8天卖出, 收益最大：9\n",
    "\n"
   ]
  },
  {
   "cell_type": "markdown",
   "metadata": {},
   "source": [
    "idea:\n",
    "\n",
    "设计方案：\n",
    "\n",
    "暴力求解法：使用两重循环来计算每对买入和卖出日期的利润，外层循环遍历买入日期，内层循环遍历卖出日期，计算每对日期的利润。\n",
    "\n",
    "时间复杂度是  $O(n^2)$"
   ]
  },
  {
   "cell_type": "code",
   "execution_count": null,
   "metadata": {},
   "outputs": [
    {
     "name": "stdout",
     "output_type": "stream",
     "text": [
      "最大利润: 9, 第5天买入, 第8天卖出\n"
     ]
    }
   ],
   "source": [
    "# add your code\n",
    "# 时间复杂度是 O(n^2)\n",
    "def max_profit(profits):  \n",
    "    n = len(profits) # 交易天数\n",
    "    if n < 2:  # 最少需要两天才能交易\n",
    "        return 0, None, None  # 无法交易  \n",
    "    \n",
    "    max_profit = 0  \n",
    "    buy_day = None  \n",
    "    sell_day = None  \n",
    "    # 从第一天开始，遍历每一天\n",
    "    for i in range(n - 1):  \n",
    "        current_profit = 0  # 当前交易利润\n",
    "        for j in range(i, n):  \n",
    "            current_profit += profits[j]  \n",
    "            if current_profit > max_profit:  \n",
    "                max_profit = current_profit  \n",
    "                buy_day = i + 1 #记录买入日期    \n",
    "                sell_day = j + 1 #记录卖出日期\n",
    "    \n",
    "    if max_profit <= 0:  \n",
    "        return 0, None, None  # 没有正利润的交易  \n",
    "    return max_profit, buy_day, sell_day  \n",
    "\n",
    "profits = [3, 2, 1, -7, 5, 2, -1, 3, -1]  \n",
    "profit, buy, sell = max_profit(profits)  \n",
    "print(f\"最大利润: {profit}, 第{buy}天买入, 第{sell}天卖出\")  "
   ]
  },
  {
   "cell_type": "markdown",
   "metadata": {},
   "source": [
    "idea:\n",
    "\n",
    "这个问题本质上是求最大子数组和，即寻找一个连续的子数组使得其总和最大。\n",
    "\n",
    "对于股票问题来说，可以将每一天的收益看作是子数组中的一个元素，问题转化为在这组收益中找到最大和的子数组。最大和即为最大利润。\n",
    "\n",
    "采用 Kadane 算法可以在线性时间内解决该问题。通过一次遍历即可得到最大利润。\n",
    "\n",
    "算法只需要遍历一次 profits 数组，时间复杂度为 $𝑂(𝑛)$，其中 n 是数组的长度。\n"
   ]
  },
  {
   "cell_type": "code",
   "execution_count": null,
   "metadata": {},
   "outputs": [
    {
     "name": "stdout",
     "output_type": "stream",
     "text": [
      "最大利润: 9, 第5天买入, 第8天卖出\n"
     ]
    }
   ],
   "source": [
    "# an algorithm with O(n)\n",
    "def max_profit(profits):  \n",
    "    n = len(profits) # 交易天数\n",
    "    if n < 2:  \n",
    "        return 0, None, None \n",
    "    \n",
    "    max_current = max_global = profits[0]  \n",
    "    start = end = 0  \n",
    "    current_start = 0  \n",
    "    \n",
    "    for i in range(1, n):  \n",
    "        if max_current + profits[i] > profits[i]:  \n",
    "            max_current += profits[i]  \n",
    "        else:  \n",
    "            max_current = profits[i]  \n",
    "            current_start = i  \n",
    "        \n",
    "        if max_current > max_global:  \n",
    "            max_global = max_current  \n",
    "            start = current_start  \n",
    "            end = i  \n",
    "    \n",
    "    if max_global <= 0:\n",
    "        return 0, None, None \n",
    "    return max_global, start + 1, end + 1  \n",
    "\n",
    "profits = [3, 2, 1, -7, 5, 2, -1, 3, -1]  \n",
    "profit, buy, sell = max_profit(profits)  \n",
    "print(f\"最大利润: {profit}, 第{buy}天买入, 第{sell}天卖出\") "
   ]
  },
  {
   "cell_type": "markdown",
   "metadata": {},
   "source": [
    "## 问题 5：\n",
    "\n",
    "观察下方的分治算法（divide-and-conquer algorithm）的伪代码, 回答下面问题\n",
    "\n",
    "```latex\n",
    "DoSomething(A,p,r)\n",
    "-----\n",
    "n := r-p+1\n",
    "if n=2 and A[p]>A[r] then\n",
    "    swap A[p] and A[r]\n",
    "else if n >= 3 then\n",
    "    m = ceil(2n/3)\n",
    "    DoSomething(A,p,p+m-1)\n",
    "    DoSomething(A,r-m+1,r)\n",
    "    DoSomething(A,p,p+m-1)  \n",
    "    \n",
    "---\n",
    "first call: DoSomething(A,1,n)\n",
    "```\n",
    "\n",
    "note：$ceil(2n/3)=\\left\\lceil {2n/3} \\right\\rceil$；$:=$ 表示赋值, 等价于 $\\to$；A是一个包含n的整数元素的数组, \n",
    "\n",
    "1. 写出该算法时间复杂度的递归公式, 并求解其对应的渐进表示\n",
    "2. 描述一下该算法的功能, 并判断是否是最高效的解决方案\n",
    "3. 使用python编程实现上述算法或其对应的更高效版本的算法\n"
   ]
  },
  {
   "cell_type": "markdown",
   "metadata": {},
   "source": [
    "idea:"
   ]
  },
  {
   "cell_type": "markdown",
   "metadata": {},
   "source": [
    "answer:\n",
    "\n",
    "<img src=\".\\fig\\1-5.png\" alt=\"1-1\" style=\"zoom:40%;\" />"
   ]
  },
  {
   "cell_type": "code",
   "execution_count": 4,
   "metadata": {},
   "outputs": [
    {
     "name": "stdout",
     "output_type": "stream",
     "text": [
      "Sorted Array: [1, 2, 5, 6, 9, 50]\n"
     ]
    }
   ],
   "source": [
    "#实现伪代码中的算法\n",
    "def do_something(A, p, r):\n",
    "    n = r - p + 1\n",
    "    if n == 2 and A[p] > A[r]:\n",
    "        # 交换操作\n",
    "        A[p], A[r] = A[r], A[p]\n",
    "    elif n >= 3:\n",
    "        m = (2 * n + 2) // 3  # ceil(2n / 3)\n",
    "        # 递归调用\n",
    "        do_something(A, p, p + m - 1)\n",
    "        do_something(A, r - m + 1, r)\n",
    "        do_something(A, p, p + m - 1)\n",
    "\n",
    "def sort_array(A):\n",
    "    n = len(A)\n",
    "    do_something(A, 0, n - 1)\n",
    "    return A\n",
    "\n",
    "arr = [5, 2, 9, 1, 50, 6]\n",
    "sorted_arr = sort_array(arr)\n",
    "print(\"Sorted Array:\", sorted_arr)"
   ]
  },
  {
   "cell_type": "code",
   "execution_count": null,
   "metadata": {},
   "outputs": [
    {
     "name": "stdout",
     "output_type": "stream",
     "text": [
      "Sorted Array: [1, 2, 5, 6, 9, 90]\n"
     ]
    }
   ],
   "source": [
    "# add your code here更高效的排序算法实现（快速排序）\n",
    "# your algorithm time complexity is : O(nlogn)\n",
    "def quicksort(A, low, high):\n",
    "    if low < high:\n",
    "        pivot = partition(A, low, high)\n",
    "        quicksort(A, low, pivot - 1)\n",
    "        quicksort(A, pivot + 1, high)\n",
    "\n",
    "def partition(A, low, high):\n",
    "    pivot = A[high]\n",
    "    i = low - 1\n",
    "    for j in range(low, high):\n",
    "        if A[j] < pivot:\n",
    "            i += 1\n",
    "            A[i], A[j] = A[j], A[i]\n",
    "    A[i + 1], A[high] = A[high], A[i + 1]\n",
    "    return i + 1\n",
    "\n",
    "def sort_array(A):\n",
    "    quicksort(A, 0, len(A) - 1)\n",
    "    return A\n",
    "\n",
    "arr = [5, 2, 9, 1, 90, 6]\n",
    "sorted_arr = sort_array(arr)\n",
    "print(\"Sorted Array:\", sorted_arr)"
   ]
  },
  {
   "cell_type": "markdown",
   "metadata": {},
   "source": [
    "## 问题 6：\n",
    "\n",
    "给定一个大小为 `n` 的数组 `nums` , 返回其中的多数元素。多数元素是指在数组中出现次数 **大于** `⌊ n/2 ⌋` 的元素。\n",
    "\n",
    "你可以假设数组是非空的, 并且给定的数组总是存在多数元素。\n",
    "\n",
    "1. 设计一个算法找到给定数组的多数元素, 分析算法设计思路, 计算算法时间复杂度, 使用python编程实现\n",
    "2. \\* 设计时间复杂度为 O(n)、空间复杂度为 O(1) 的算法解决此问题, 分析算法设计思路, 使用python编程实现\n",
    "\n",
    "e.g.:\n",
    "---\n",
    "1. nums=[3,2,3], 返回3\n",
    "2. nums=[2,2,1,1,1,2,2], 返回2\n"
   ]
  },
  {
   "cell_type": "markdown",
   "metadata": {},
   "source": [
    "idea：\n",
    "<br>选择排序法来设计：\n",
    "如果将数组排序，那么数组中的中位数一定是多数元素（因为多数元素的出现次数超过了 $n/2$）。\n",
    "<br>这种方法的时间复杂度是 $𝑂(𝑛log𝑛)$，但空间复杂度是 $𝑂(1)$。"
   ]
  },
  {
   "cell_type": "code",
   "execution_count": null,
   "metadata": {},
   "outputs": [
    {
     "name": "stdout",
     "output_type": "stream",
     "text": [
      "3\n",
      "2\n"
     ]
    }
   ],
   "source": [
    "# add your code here\n",
    "# your algorithm time complexity is :O(nlogn)\n",
    "def quicksort(arr):\n",
    "    # 快速排序的实现\n",
    "    if len(arr) <= 1:\n",
    "        return arr\n",
    "    pivot = arr[len(arr) // 2]  # 选择中间元素作为基准\n",
    "    left = [x for x in arr if x < pivot]  # 小于基准的元素\n",
    "    middle = [x for x in arr if x == pivot]  # 等于基准的元素\n",
    "    right = [x for x in arr if x > pivot]  # 大于基准的元素\n",
    "    # 递归排序并合并结果\n",
    "    return quicksort(left) + middle + quicksort(right)\n",
    "\n",
    "def majorityElement(nums):\n",
    "    # 对数组进行快速排序\n",
    "    sorted_nums = quicksort(nums)\n",
    "    # 返回排序后的中间元素\n",
    "    return sorted_nums[len(sorted_nums) // 2]\n",
    "\n",
    "nums1 = [3, 2, 3]\n",
    "print(majorityElement(nums1))  # 输出 3\n",
    "\n",
    "nums2 = [2, 2, 1, 1, 1, 2, 2]\n",
    "print(majorityElement(nums2))  # 输出 2"
   ]
  },
  {
   "cell_type": "markdown",
   "metadata": {},
   "source": [
    "idea for 2\\*：\n",
    "<br>Boyer-Moore 投票算法是一个非常高效的算法，专门用于解决此类问题。它通过维护一个候选元素和一个计数器来找出多数元素。\n",
    "\n",
    " - 使用两个变量：candidate（候选多数元素）和 count（计数器）。\n",
    " - 遍历数组：\n",
    "    \n",
    "    - 如果 count 为 0，则将当前元素设为新的候选元素，并将 count 设置为 1。\n",
    "    - 如果当前元素等于候选元素，则将 count 加 1。\n",
    "    - 如果当前元素不等于候选元素，则将 count 减 1。\n",
    " -  最终，candidate 即为多数元素，因为它出现次数超过了 n/2。\n",
    "\n",
    "<br>该算法通过一遍遍历实现，不需要额外的空间，其时间复杂度是 $𝑂(𝑛)$，空间复杂度是 $𝑂(1)$。"
   ]
  },
  {
   "cell_type": "code",
   "execution_count": 3,
   "metadata": {},
   "outputs": [
    {
     "name": "stdout",
     "output_type": "stream",
     "text": [
      "3\n",
      "2\n"
     ]
    }
   ],
   "source": [
    "# algorithm time complexity：O(n), space complexity:O(1)\n",
    "# add your code here\n",
    "def majorityElement(nums):\n",
    "    # 初始化候选元素和计数器\n",
    "    candidate = None\n",
    "    count = 0\n",
    "    # Boyer-Moore投票算法\n",
    "    for num in nums:\n",
    "        if count == 0:\n",
    "            candidate = num\n",
    "        count += (1 if num == candidate else -1)\n",
    "    return candidate\n",
    "\n",
    "nums1 = [3, 2, 3]\n",
    "print(majorityElement(nums1))  # 输出 3\n",
    "\n",
    "nums2 = [2, 2, 1, 1, 1, 2, 2]\n",
    "print(majorityElement(nums2))  # 输出 2"
   ]
  },
  {
   "cell_type": "markdown",
   "metadata": {},
   "source": [
    "## 问题 7：\n",
    "\n",
    "给定一个包含不同整数元素的数组 $ A[1..n]$ ,并且满足条件：$A[1]>A[2]$ 并且 $A[n-1]<A[n]$; 规定：如果一个元素比它两边的邻居元素都小, 即：$A[x]<A[x-1], A[x]<A[x+1]$ , 称这个元素A[x]为“局部最小”。通过遍历一次数组, 我们可以很容易在 $O(n)$的时间复杂度下找到一个局部最小值, \n",
    "\n",
    "\n",
    "1. 分析该问题, 设计一个算法在$O(logn)$的时间复杂度下找到一个局部最小(返回数值), 要求：分析算法设计思路, 并且使用python编程实现\n",
    "2. \\* 设计算法找出所有局部最小值, 分析算法设计思路, 并使用python编程实现\n",
    "\n",
    "e.g.:\n",
    "---\n",
    "A=[9, 3, 7, 2, 1, 4, 5 ] 时,  局部最小元素为 3, 1\n"
   ]
  },
  {
   "cell_type": "markdown",
   "metadata": {},
   "source": [
    "## idea1：\n",
    "\n",
    "**二分查找寻找局部最小值**\n",
    "\n",
    "首先，定义数组的中间元素为 $A[m]$，其中 $m = \\frac{l + r}{2}$（$l$ 和 $r$ 分别是当前查找区间的左右端点）。\n",
    "\n",
    "- 如果 $A[m]$ 是局部最小值，即 $A[m] < A[m - 1]$ 且 $A[m] < A[m + 1]$，就找到了局部最小值。\n",
    "- 否则，根据与邻居元素的比较情况，可以决定向左半部分或右半部分继续查找：\n",
    "  - 如果 $A[m - 1] < A[m]$，则局部最小值必定在右半部分，因此可以将查找区间缩小为 $[m + 1, r]$。\n",
    "  - 如果 $A[m + 1] < A[m]$，则局部最小值必定在左半部分，因此可以将查找区间缩小为 $[l, m - 1]$。\n",
    "\n",
    "通过二分查找不断缩小区间，可以在 $O(\\log n)$ 的时间内找到局部最小值。\n",
    "\n",
    "边界处理\n",
    "- 当 $m = 1$ 时，只需检查 $A[1]$ 与 $A[2]$ 的关系。\n",
    "- 当 $m = n$ 时，只需检查 $A[n]$ 与 $A[n - 1]$ 的关系。\n",
    "\n",
    "时间复杂度\n",
    "\n",
    "每次将搜索区间缩小一半，因此时间复杂度为 $O(\\log n)$。"
   ]
  },
  {
   "cell_type": "code",
   "execution_count": 6,
   "metadata": {},
   "outputs": [
    {
     "name": "stdout",
     "output_type": "stream",
     "text": [
      "局部最小值为: 1\n"
     ]
    }
   ],
   "source": [
    "# add your code here\n",
    "# your algorithm time complexity is :\n",
    "def findLocalMinimum(A):\n",
    "    # 定义二分查找的辅助函数\n",
    "    def binary_search(A, low, high):\n",
    "        if low == high:\n",
    "            return A[low]\n",
    "        \n",
    "        mid = (low + high) // 2\n",
    "        \n",
    "        # 如果 mid 是局部最小\n",
    "        if A[mid] < A[mid - 1] and A[mid] < A[mid + 1]:\n",
    "            return A[mid]\n",
    "        \n",
    "        # 向左半部分搜索\n",
    "        elif A[mid] > A[mid - 1]:\n",
    "            return binary_search(A, low, mid - 1)\n",
    "        \n",
    "        # 向右半部分搜索\n",
    "        else:\n",
    "            return binary_search(A, mid + 1, high)\n",
    "\n",
    "    # 调用二分查找的主函数\n",
    "    return binary_search(A, 0, len(A) - 1)\n",
    "\n",
    "A = [9, 3, 7, 2, 1, 4, 5]\n",
    "result = findLocalMinimum(A)\n",
    "print(f\"局部最小值为: {result}\")"
   ]
  },
  {
   "cell_type": "markdown",
   "metadata": {},
   "source": [
    "## idea2:\n",
    "\n",
    "通过遍历数组来检查每个元素是否满足局部最小值的条件，从而找出所有局部最小值。\n",
    "<br>边界条件处理\n",
    "- **第一个元素**：只需要检查其与第二个元素的大小关系。\n",
    "- **最后一个元素**：只需要检查其与倒数第二个元素的大小关系。\n",
    "\n",
    "对于其他元素 $A[x]$（$1 < x < n - 1$）\n",
    "\n",
    "如果 $A[x]$ 小于其左右邻居元素 $A[x - 1]$ 和 $A[x + 1]$，则该元素是一个局部最小值。\n",
    "\n",
    "遍历数组\n",
    "- 从数组的第二个元素到倒数第二个元素进行检查。\n",
    "- 对于第一个元素和最后一个元素，分别单独检查它们的邻居元素。\n",
    "\n",
    "时间复杂度与空间复杂度分析\n",
    "\n",
    "- **时间复杂度**：由于只遍历一次数组，因此时间复杂度为 $O(n)$，其中 $n$ 是数组的长度。"
   ]
  },
  {
   "cell_type": "code",
   "execution_count": null,
   "metadata": {},
   "outputs": [
    {
     "name": "stdout",
     "output_type": "stream",
     "text": [
      "局部最小值为: [3, 1]\n"
     ]
    }
   ],
   "source": [
    "# add your code here\n",
    "# your algorithm time complexity is : O(n)\n",
    "\n",
    "def findAllLocalMinimums(A):\n",
    "    n = len(A)\n",
    "    local_minimums = []\n",
    "    \n",
    "    # 检查第一个元素\n",
    "    if A[0] < A[1]:\n",
    "        local_minimums.append(A[0])\n",
    "    \n",
    "    # 检查中间的元素\n",
    "    for i in range(1, n - 1):\n",
    "        if A[i] < A[i - 1] and A[i] < A[i + 1]:\n",
    "            local_minimums.append(A[i])\n",
    "    \n",
    "    # 检查最后一个元素\n",
    "    if A[n - 1] < A[n - 2]:\n",
    "        local_minimums.append(A[n - 1])\n",
    "    \n",
    "    return local_minimums\n",
    "A = [9, 3, 7, 2, 1, 4, 5]\n",
    "result = findAllLocalMinimums(A)\n",
    "print(f\"局部最小值为: {result}\")"
   ]
  },
  {
   "cell_type": "markdown",
   "metadata": {},
   "source": [
    "## 问题 8：\n",
    "\n",
    "给定包含n个不同数字的一组数, 寻找一种基于比较的算法在这组数中找到k个最小的数字, 并按顺序输出它们。\n",
    "\n",
    "1. 将n个数先进行排序, 然后按顺序输出最小的k个数。要求：选择合适的排序算法实现上述操作, 计算算法时间复杂度, 并使用python编程实现。\n",
    "2. 建立一个包含这n个数的堆（heap）, 并且调用 k 次Extract-min 按顺序输出最小的k个数。使用往空堆中不断插入元素的方法建立堆, 分析这种方法建堆的时间复杂度, 并使用python编程实现\n",
    "3. \\* 假设数组中包含的数据总数目超过了计算机的存储能力, 请设计一个算法, 找到这堆数据的前k小的数值, 计算时间复杂度, 并使用python实现该算法, 假设计算机一定能存储k个数据。\n",
    "\n",
    "e.g.：\n",
    "---\n",
    "数组arr=[5,4,3,2,6,1,88,33,22,107] 的前3个最小数据为：1, 2, 3\n"
   ]
  },
  {
   "cell_type": "markdown",
   "metadata": {},
   "source": [
    "## 1. idea："
   ]
  },
  {
   "cell_type": "code",
   "execution_count": null,
   "metadata": {},
   "outputs": [
    {
     "name": "stdout",
     "output_type": "stream",
     "text": [
      "前3个最小的数字为: [1, 2, 3]\n"
     ]
    }
   ],
   "source": [
    "# 选择归并排序：时间复杂度：O(nlogn)\n",
    "def quicksort(arr):\n",
    "    if len(arr) <= 1:\n",
    "        return arr\n",
    "    pivot = arr[len(arr) // 2]  # 选择中间元素作为基准\n",
    "    left = [x for x in arr if x < pivot]  # 小于基准的元素\n",
    "    middle = [x for x in arr if x == pivot]  # 等于基准的元素\n",
    "    right = [x for x in arr if x > pivot]  # 大于基准的元素\n",
    "    # 递归排序并合并结果\n",
    "    return quicksort(left) + middle + quicksort(right)\n",
    "\n",
    "def find_k_smallest(arr, k):\n",
    "    # 对整个数组进行排序\n",
    "    sorted_arr = quicksort(arr)\n",
    "    # 返回前k个最小的元素\n",
    "    return sorted_arr[:k]\n",
    "\n",
    "arr = [5, 4, 3, 2, 6, 1, 88, 33, 22, 107]\n",
    "k = 3\n",
    "result = find_k_smallest(arr, k)\n",
    "print(f\"前{3}个最小的数字为: {result}\")"
   ]
  },
  {
   "cell_type": "markdown",
   "metadata": {},
   "source": [
    "## 2. idea：\n",
    "\n",
    "Python 的 heapq 模块提供了最小堆的支持，可以非常方便地从中找出最小的元素。\n",
    "\n",
    "1. 建立最小堆：\n",
    "首先，通过 heapq.heappush 将数组中的所有元素插入到一个最小堆中。堆是一个完全二叉树，插入元素时会自动维护堆的性质，即根节点始终是最小值。\n",
    "\n",
    "2. 提取最小元素：\n",
    "使用 heapq.heappop 从堆中一次提取最小的元素。每次调用 heappop 都会将堆中的最小元素移除，并调整堆的结构，使得新的最小元素变为根节点。\n",
    "\n",
    "通过这种方式，可以提取出前 k 个最小的元素。"
   ]
  },
  {
   "cell_type": "markdown",
   "metadata": {},
   "source": [
    "**时间复杂度分析**\n",
    "\n",
    "- 堆的建立\n",
    "\n",
    "向堆中插入 $n$ 个元素的时间复杂度为 $O(n \\log n)$，因为每次插入堆的时间复杂度是 $O(\\log n)$，总共插入 $n$ 个元素。\n",
    "\n",
    "- 提取 $k$ 个最小元素\n",
    "\n",
    "每次调用 heappop 的时间复杂度是 $O(\\log n)$，因此提取 $k$ 个元素的时间复杂度是 $O(k \\log n)$。\n",
    "\n",
    "- 综合时间复杂度\n",
    "\n",
    "总的时间复杂度是：$$O(n \\log n + k \\log n)$$\n",
    "\n",
    "对于大部分情况，$n \\log n$ 通常会是主导项，因此算法的时间复杂度通常是 $O(n \\log n)$。\n",
    "\n",
    "空间复杂度：需要一个堆来存储所有 $n$ 个元素，因此空间复杂度是 $O(n)$。"
   ]
  },
  {
   "cell_type": "code",
   "execution_count": 8,
   "metadata": {},
   "outputs": [
    {
     "name": "stdout",
     "output_type": "stream",
     "text": [
      "前3个最小的数字为: [1, 2, 3]\n"
     ]
    }
   ],
   "source": [
    "import heapq\n",
    "\n",
    "def find_k_smallest(arr, k):\n",
    "    # 初始化一个空堆\n",
    "    min_heap = []\n",
    "    \n",
    "    # 通过向空堆插入所有元素来建立堆\n",
    "    for num in arr:\n",
    "        heapq.heappush(min_heap, num)\n",
    "    \n",
    "    # 提取k次最小元素\n",
    "    k_smallest = []\n",
    "    for _ in range(k):\n",
    "        k_smallest.append(heapq.heappop(min_heap))\n",
    "    \n",
    "    return k_smallest\n",
    "\n",
    "arr = [5, 4, 3, 2, 6, 1, 88, 33, 22, 107]\n",
    "k = 3\n",
    "result = find_k_smallest(arr, k)\n",
    "print(f\"前{3}个最小的数字为: {result}\")"
   ]
  },
  {
   "cell_type": "markdown",
   "metadata": {},
   "source": [
    "## 3.idea：\n",
    "\n",
    "**算法设计**\n",
    "1. 最大堆实现\n",
    "\n",
    "使用 Python 的 `heapq` 模块，该模块默认是一个最小堆，可以通过将数值取负，来模拟最大堆的行为。这样，在堆顶将是当前堆中的最大元素。\n",
    "\n",
    "2. 遍历数据\n",
    "\n",
    "对于数据流中的每一个数据块，遍历其中的每个元素，检查它是否比当前堆中的最大元素小。\n",
    "\n",
    "  - 如果堆中元素少于 $k$ 个，则直接将该元素加入堆中。\n",
    "  - 如果堆中已经有 $k$ 个元素，则比较当前元素与堆中的最大元素（即堆顶）。如果当前元素更小，则替换堆顶元素。\n",
    "\n",
    "**时间复杂度分析**\n",
    "\n",
    "- 堆的操作时间复杂度：每次插入或替换堆顶元素的时间复杂度是 $O(\\log k)$。\n",
    "- 处理每个数据块的时间复杂度：对于每个数据块中的每个元素，进行一次堆操作，因此总体时间复杂度为 $O(N \\log k)$，其中 $N$ 是数据流中总的元素数量，$k$ 是要求的最小元素个数。\n",
    "\n",
    "**空间复杂度分析**\n",
    "仅维护一个大小为 $k$ 的堆，空间复杂度是 $O(k)$，这也是算法的最大空间占用。"
   ]
  },
  {
   "cell_type": "code",
   "execution_count": null,
   "metadata": {},
   "outputs": [
    {
     "name": "stdout",
     "output_type": "stream",
     "text": [
      "前3个最小的数字是: [2, 2, 1]\n"
     ]
    }
   ],
   "source": [
    "# add your code here\n",
    "# your algorithm time complexity is :O(N log k)\n",
    "import heapq\n",
    "\n",
    "def find_k_smallest_from_external_data(k, data_stream):\n",
    "    # 初始化一个最大堆，用来存储最小的k个数\n",
    "    max_heap = []\n",
    "\n",
    "    # 遍历数据流中的所有数据\n",
    "    for data_chunk in data_stream:\n",
    "        # 对每个数据块中的数字进行处理\n",
    "        for num in data_chunk:\n",
    "            if len(max_heap) < k:\n",
    "                heapq.heappush(max_heap, -num)  # 插入负数实现最大堆\n",
    "            else:\n",
    "                # 如果堆已满且当前数小于堆顶，替换堆顶\n",
    "                if -max_heap[0] > num:\n",
    "                    heapq.heapreplace(max_heap, -num)\n",
    "\n",
    "    # 结果是堆中的前k小数，需要取负值恢复原数值\n",
    "    return [-x for x in max_heap]\n",
    "\n",
    "# 模拟外部数据流\n",
    "data_stream = [\n",
    "    [5, 4, 3, 2, 6],\n",
    "    [1, 88, 33, 22, 107],\n",
    "    [30, 11, 40, 15, 100],\n",
    "    [3, 9, 7, 2, 6]\n",
    "]\n",
    "\n",
    "k = 3\n",
    "result = find_k_smallest_from_external_data(k, data_stream)\n",
    "print(f\"前{k}个最小的数字是: {result}\")"
   ]
  },
  {
   "cell_type": "markdown",
   "metadata": {},
   "source": [
    "## 问题 9：\n",
    "\n",
    "**选择问题**:给定一个包含n个未排序值的数组A和一个$k≤n$的整数, 返回A中最小的第k项。\n",
    "\n",
    "在课堂上, 学了一个简单的O(n)随机算法来解决选择问题。事实上还有一种更复杂的最坏情况下时间复杂度为$O(n)$ 的选择算法。假设使用一个黑盒过程来实现这个O(n)选择算法: 给定一个数组A、 $p < r$ 和 k,  $BB(A, p, r, k)$ 可以在$O(r−p+ 1)$时间内找到并报告$A[p..r]$中第k小的项的下标。假设你可以在线性时间内处理Partition过程。\n",
    "\n",
    "1. 请分析如何修改 Quicksork 算法可以使其最差情况下的运行时间为 $O(nlogn)$, 使用伪代码实现, 并分析为何修改后的版本最差情况的运行时间为$O(nlogn)$\n",
    "\n",
    "note: 伪代码中, 你可以直接调用用` BB(A,p,r,k)`这个函数用于表示在最坏情况下时间复杂度为$O(n)$的选择算法；\n",
    "\n",
    "\n",
    "\n",
    "2. 找到一个更好的算法报告数组A中的前k小的项, 使用伪代码表示你的算法, 并分析你算法的时间复杂度。\n",
    "\n",
    "举例：A=[13, 3, 7, 9, 11, 1, 15, 2, 8, 10, 12, 16, 14, 5], 当k=4时, 应该报告1, 2, 3, 4\n",
    "\n",
    "note： 最直观的方法就是先将数组A排序, 然后从左向右报告其前k项, 这样操作的时间复杂度为$O(nlogn)$. 调用用` BB(A,p,r,k)`设计一个算法使其报告无序数组A的前k项, 满足时间复杂度好于$\\Theta(nlogn)$, 并且当$k=\\sqrt{n}$时, 你设计的算法时间复杂度应该为$\\Theta(n)$.\n",
    "\n",
    "\n",
    "\n",
    "3. 给定一个大小为n的数组, 找到一个 时间复杂度为$O(n log k)$ 的算法, 该算法将A中的元素重新排序, 使它们被划分为k个部分, 每个部分的元素小于或等于下一部分的元素。假设n和k都是2的幂。使用伪代码表示你的算法, 并分析时间复杂度。\n",
    "\n",
    "e.g.:\n",
    "---\n",
    "数组：[1,  3,  5,  7,  9,  11,  13,  15,  2,  4,  6,  8,  10,  12,  16,  14], k=4, \n",
    "\n",
    "对应重新排序的数组为：[1,  3,  2,  4]  [7,  6,  5,  8]  [12,  11,  10,  9]  [13,  14,  16,  15]\n",
    "\n",
    "\n"
   ]
  },
  {
   "cell_type": "markdown",
   "metadata": {},
   "source": [
    "## 1.idea：\n",
    "\n",
    "**关键修改思想**\n",
    "- 选择一个合适的 pivot\n",
    "\n",
    "在传统的 Quicksort 中，pivot 可能是数组的任意元素。最差情况发生在每次选择的 pivot 总是数组中的最小或最大元素，这会导致递归的深度达到 $n$，从而使时间复杂度变为 $O(n^2)$。\n",
    "\n",
    "为了避免这种情况，通过 `BB(A, p, r, k)` 算法来选择一个合适的 pivot。`BB` 算法能够在线性时间 $O(n)$ 内找到一个数组的第 $k$ 小元素，因此可以确保每次分割时 pivot 选得较为合理。\n",
    "\n",
    "- 利用 BB 算法找到中位数\n",
    "\n",
    "在每次递归中，我们使用 `BB(A, p, r, (r - p + 1) // 2)` 来找到数组中第 $\\frac{n}{2}$ 小的元素作为 pivot。这意味着选择了一个接近中间的元素作为 pivot，从而避免了偏向数组两端的元素。\n",
    "\n",
    "- 分治过程\n",
    "\n",
    "使用 `Partition` 函数将数组分为两个部分，一部分小于 pivot，另一部分大于 pivot。然后，递归地对这两个部分进行排序。每次递归都能把数组划分为两个较小的部分，最终实现排序。\n",
    "\n",
    "通过这种方式，能够显著提高 Quicksort 的性能，尤其是在处理最坏情况时，使其更接近平均情况下的时间复杂度 $O(n \\log n)$。"
   ]
  },
  {
   "cell_type": "code",
   "execution_count": 9,
   "metadata": {},
   "outputs": [],
   "source": [
    "# add your pseudo-code here\n",
    "# 伪代码实现\n",
    "# BB(A, p, r, k) 用于找到 A[p...r] 中第 k 小的元素下标\n",
    "def BB(A, p, r, k):\n",
    "    pass\n",
    "\n",
    "# Quicksort函数\n",
    "def ModifiedQuicksort(A, p, r):\n",
    "    if p < r:\n",
    "        # 使用 BB 函数找到中位数\n",
    "        mid_index = BB(A, p, r, (r - p + 1) // 2)\n",
    "        # 将找到的中位数作为枢轴\n",
    "        pivot_index = Partition(A, p, r, mid_index)\n",
    "        \n",
    "        # 递归排序两部分\n",
    "        ModifiedQuicksort(A, p, pivot_index - 1)\n",
    "        ModifiedQuicksort(A, pivot_index + 1, r)\n",
    "\n",
    "# Partition 函数将数组 A[p...r] 按照枢轴元素分区\n",
    "def Partition(A, p, r, pivot_index):\n",
    "    pivot_value = A[pivot_index]\n",
    "    # 将 pivot 元素移到数组末尾\n",
    "    A[pivot_index], A[r] = A[r], A[pivot_index]\n",
    "    i = p - 1\n",
    "    # 对数组进行分区\n",
    "    for j in range(p, r):\n",
    "        if A[j] <= pivot_value:\n",
    "            i += 1\n",
    "            A[i], A[j] = A[j], A[i]\n",
    "    # 将枢轴元素放到正确的位置\n",
    "    A[i + 1], A[r] = A[r], A[i + 1]\n",
    "    return i + 1"
   ]
  },
  {
   "cell_type": "markdown",
   "metadata": {},
   "source": [
    "**最坏情况时间复杂度分析**\n",
    "- 每次递归分割\n",
    "\n",
    "每次递归通过 `BB(A, p, r, k)` 找到一个接近中位数的 pivot，保证了分割过程不会偏向一侧。  因此，每次分割都能把问题规模减少一半，从而使得递归的深度为 $O(\\log n)$。\n",
    "- 每次递归处理的时间\n",
    "  \n",
    "  - 每次递归中的 `Partition` 操作的时间复杂度为 $O(n)$，因为它需要遍历整个数组并将元素根据 pivot 进行划分。\n",
    "  - 使用 `BB` 算法来找到 pivot 也是 $O(n)$，所以每次递归的总时间复杂度为 $O(n)$。\n",
    "\n",
    "- 总体时间复杂度\n",
    "\n",
    "因为递归深度是 $O(\\log n)$，每一层递归的时间复杂度是 $O(n)$，因此修改后的 Quicksort 算法的最坏情况时间复杂度是 $O(n \\log n)$。"
   ]
  },
  {
   "cell_type": "markdown",
   "metadata": {},
   "source": [
    "## 2.idea：\n",
    "\n",
    "- 每次调用 BB 函数的时间复杂度是 $O(n)$。在每一轮递归中，不断将范围缩小，直到最终选出前 k 小的元素，递归的深度最大为 $O(log k)$。\n",
    "- 因此，整个算法的时间复杂度是 $O(log k)$，而且当 $k=\\sqrt{n}$ 时，算法的时间复杂度为 $O(n)$。"
   ]
  },
  {
   "cell_type": "code",
   "execution_count": null,
   "metadata": {},
   "outputs": [],
   "source": [
    "def BB(A, p, r, k):\n",
    "    pass\n",
    "\n",
    "# 查找并返回前k小的元素\n",
    "def FindTopK(A, p, r, k):\n",
    "    if k == 0:\n",
    "        return []\n",
    "\n",
    "    # 使用BB找到第k小元素\n",
    "    kth_smallest_index = BB(A, p, r, k)\n",
    "\n",
    "    # 对前k个元素进行分区，保证前k个元素是最小的\n",
    "    pivot_value = A[kth_smallest_index]\n",
    "    \n",
    "    # 对数组进行分区，保证pivot_value左边是小于它的，右边是大于它的\n",
    "    partition_index = Partition(A, p, r, kth_smallest_index)\n",
    "\n",
    "    # 如果分区后，左边的元素已经有k个，直接返回前k个\n",
    "    if partition_index == k - 1:\n",
    "        return A[p:partition_index + 1]\n",
    "    # 如果左边元素少于k个，递归查找右边\n",
    "    elif partition_index < k - 1:\n",
    "        return FindTopK(A, partition_index + 1, r, k - partition_index - 1)\n",
    "    # 如果左边元素多于k个，递归查找左边\n",
    "    else:\n",
    "        return FindTopK(A, p, partition_index - 1, k)\n",
    "\n",
    "# 分区函数，返回枢轴元素的最终位置\n",
    "def Partition(A, p, r, pivot_index):\n",
    "    pivot_value = A[pivot_index]\n",
    "    A[pivot_index], A[r] = A[r], A[pivot_index]  # 将枢轴放到数组末尾\n",
    "    i = p - 1\n",
    "    for j in range(p, r):\n",
    "        if A[j] <= pivot_value:\n",
    "            i += 1\n",
    "            A[i], A[j] = A[j], A[i]\n",
    "    A[i + 1], A[r] = A[r], A[i + 1]  # 将枢轴放到正确位置\n",
    "    return i + 1"
   ]
  },
  {
   "cell_type": "markdown",
   "metadata": {},
   "source": [
    "## 3.idea:\n"
   ]
  },
  {
   "cell_type": "code",
   "execution_count": null,
   "metadata": {},
   "outputs": [],
   "source": [
    "# BB(A, p, r, k) 用于找到 A[p...r] 中第k小的元素\n",
    "def BB(A, p, r, k):\n",
    "    pass\n",
    "\n",
    "# 主函数：将数组A划分为k个有序部分\n",
    "def PartitionAndSort(A, p, r, k):\n",
    "    # 递归结束条件\n",
    "    if k == 1:\n",
    "        # 对整个数组进行排序\n",
    "        QuickSort(A, p, r)\n",
    "        return\n",
    "    \n",
    "    # 计算每个部分的大小\n",
    "    part_size = (r - p + 1) // k\n",
    "    \n",
    "    # 对于k个部分，进行递归划分\n",
    "    for i in range(k):\n",
    "        # 每次递归将数组划分为k个部分，并进行排序\n",
    "        start = p + i * part_size\n",
    "        end = p + (i + 1) * part_size - 1 if i < k - 1 else r\n",
    "        PartitionAndSort(A, start, end, 1)\n",
    "    \n",
    "    # 对划分后的部分进行多路归并\n",
    "    MultiMerge(A, p, r, k)\n",
    "\n",
    "# 快速排序，排序数组\n",
    "def QuickSort(A, p, r):\n",
    "    if p < r:\n",
    "        q = Partition(A, p, r)\n",
    "        QuickSort(A, p, q - 1)\n",
    "        QuickSort(A, q + 1, r)\n",
    "\n",
    "# 多路归并，将k个部分合并为一个有序的数组\n",
    "def MultiMerge(A, p, r, k):\n",
    "    # 使用k路归并算法将k个子数组合并成一个大数组\n",
    "    heap = []\n",
    "    indices = [p] * k  # 记录每个子数组的起始位置\n",
    "    for i in range(k):\n",
    "        heap.append(A[p + i])\n",
    "    \n",
    "    heap.sort()  # 使用一个排序算法对k个部分进行合并\n",
    "\n",
    "# 分区函数，将枢轴放到正确位置\n",
    "def Partition(A, p, r):\n",
    "    pivot = A[r]\n",
    "    i = p - 1\n",
    "    for j in range(p, r):\n",
    "        if A[j] <= pivot:\n",
    "            i += 1\n",
    "            A[i], A[j] = A[j], A[i]\n",
    "    A[i + 1], A[r] = A[r], A[i + 1]\n",
    "    return i + 1"
   ]
  },
  {
   "cell_type": "markdown",
   "metadata": {},
   "source": [
    "\n",
    "**时间复杂度分析**\n",
    "\n",
    "递归分割部分\n",
    "\n",
    "递归分割时，每次将数组分为 $k$ 个部分。在每个递归过程中，都会使用线性时间复杂度的选择算法 `BB(A, p, r, k)` 来找到子数组的位置。每个递归的时间复杂度为 $O(n \\log k)$，其中 $n$ 是数组的大小，$k$ 是划分的部分数。\n",
    "\n",
    "归并部分\n",
    "\n",
    "对 $k$ 个部分的归并操作使用了多路归并，时间复杂度为 $O(n \\log k)$，其中 $n$ 是数组的大小，$k$ 是分割的部分数。"
   ]
  },
  {
   "cell_type": "markdown",
   "metadata": {},
   "source": [
    "## 问题 10：\n",
    "\n",
    "给定一个包含m个**字符串**的数组A, 其中不同的字符串可能有不同的字符数, 但数组中所有字符串的字符总数为n。设计一个算法在 $O(n)$ 时间内对字符串进行排序, 分析算法设计方案, 计算其时间复杂度, 并基于python编程实现该算法。请注意, 假设字符串只包含\"a\",\"b\",...,\"z\", \n",
    "\n",
    "\n",
    "\n",
    "举例1：数组A=[\"a\", \"da\", \"bde\", \"ab\", \"bc\", \"abdc\", \"cdba\"], 排序后的数组应该为：['a', 'ab', 'abdc', 'bc', 'bde', 'cdba', 'da']\n",
    "\n",
    "\n",
    "\n",
    "举例2：数组A=['ab', 'a', 'b', 'abc', 'ba', 'c'], 排序后的数组应该为：\n",
    "\n",
    "['a', 'ab', 'abc', 'b', 'ba', 'c']\n",
    "\n",
    "\n",
    "\n",
    "举例3：数组A=['aef', 'yzr', 'wr', 'ab', 'bhjc', 'lkabdc', 'pwcdba'],  排序后的数组应该为：['ab', 'aef', 'bhjc', 'lkabdc', 'pwcdba', 'wr', 'yzr']\n",
    "\n",
    "\n",
    "\n",
    "note：\n",
    "\n",
    "-  两个字符之间的比较可以考虑比较他们对应的ASCII码值；\n",
    "- python中可以使用`ord(\"a\")`返回字符 “a”对应的ASCII值"
   ]
  },
  {
   "cell_type": "markdown",
   "metadata": {},
   "source": [
    "## idea:\n",
    "\n",
    "采用基于计数排序的字符串排序，按字符的顺序逐步进行排序，直到将整个字符串数组排序完成。针对每个字符的位置进行排序，并且从字符串的最后一位开始排序，逐步到最前面。\n",
    "\n",
    "算法设计思路\n",
    "\n",
    "- 找出最大字符串长度：在排序之前，首先计算所有字符串的最大长度 max_len，这是为了确保按字符的每一位进行排序，直到字符串的最前面。\n",
    "\n",
    "- 逐位排序（从后向前）：对于每个字符位置（从最后一位到第一位），使用计数排序 对字符串数组按当前字符进行排序。这一步骤相当于从低位到高位对字符串进行排序。\n",
    "\n",
    "- 计数排序的细节：\n",
    " \n",
    "  - 统计字符频率：遍历所有字符串，计算每个字符串当前位置的字符的出现频率\n",
    "  - 前缀和更新：通过将频率数组更新为前缀和，使得每个字符可以直接定位到它在排序后位置。\n",
    "  - 填充输出数组：按照从大到小的顺序遍历原数组（为了稳定性），将字符串放入输出数组中，并根据字符的频率更新计数数组。\n",
    "\n",
    "- 最终排序：最后，将排序好的结果复制回原数组 𝐴，这样数组 𝐴就被排好序了"
   ]
  },
  {
   "cell_type": "code",
   "execution_count": null,
   "metadata": {},
   "outputs": [
    {
     "name": "stdout",
     "output_type": "stream",
     "text": [
      "['a', 'ab', 'abdc', 'bc', 'bde', 'cdba', 'da']\n",
      "['a', 'ab', 'abc', 'b', 'ba', 'c']\n",
      "['ab', 'aef', 'bhjc', 'lkabdc', 'pwcdba', 'wr', 'yzr']\n"
     ]
    }
   ],
   "source": [
    "# add your code here\n",
    "# your algorithm time complexity is : O(n)\n",
    "def counting_sort_for_strings(A):\n",
    "    # 找到最大长度的字符串，用于确定排序的字符位置\n",
    "    max_len = max(len(s) for s in A)\n",
    "    \n",
    "    # 从字符串的最后一位字符开始排序\n",
    "    for pos in range(max_len - 1, -1, -1):  # 从最后一位字符到第一位字符排序\n",
    "        # 使用计数排序按当前字符进行排序\n",
    "        counting_sort_by_char(A, pos)\n",
    "    \n",
    "    return A\n",
    "\n",
    "def counting_sort_by_char(A, pos):\n",
    "    \n",
    "    min_char, max_char = 97, 122  \n",
    "    range_of_chars = max_char - min_char + 1\n",
    "\n",
    "    count = [0] * range_of_chars  # 用来存储字符出现的频率\n",
    "    output = [None] * len(A)      # 存储排序后的结果\n",
    "\n",
    "    # 统计每个字符的出现次数\n",
    "    for string in A:\n",
    "        char_index = ord(string[pos]) - min_char if pos < len(string) else -1\n",
    "        if char_index >= 0:\n",
    "            count[char_index] += 1\n",
    "        else:\n",
    "            count[0] += 1\n",
    "\n",
    "    # 更新计数数组为前缀和\n",
    "    for i in range(1, range_of_chars):\n",
    "        count[i] += count[i - 1]\n",
    "\n",
    "    # 根据字符的出现次数填充排序后的数组\n",
    "    for string in reversed(A):\n",
    "        char_index = ord(string[pos]) - min_char if pos < len(string) else -1\n",
    "        if char_index >= 0:\n",
    "            count[char_index] -= 1\n",
    "            output[count[char_index]] = string\n",
    "        else:\n",
    "            count[0] -= 1\n",
    "            output[count[0]] = string\n",
    "\n",
    "    # 将排序后的数组复制回原数组\n",
    "    for i in range(len(A)):\n",
    "        A[i] = output[i]\n",
    "\n",
    "A1 = [\"a\", \"da\", \"bde\", \"ab\", \"bc\", \"abdc\", \"cdba\"]\n",
    "A2 = ['ab', 'a', 'b', 'abc', 'ba', 'c']\n",
    "A3 = ['aef', 'yzr', 'wr', 'ab', 'bhjc', 'lkabdc', 'pwcdba']\n",
    "\n",
    "print(counting_sort_for_strings(A1))  \n",
    "print(counting_sort_for_strings(A2))  \n",
    "print(counting_sort_for_strings(A3))  "
   ]
  },
  {
   "cell_type": "markdown",
   "metadata": {},
   "source": [
    "**时间复杂度分析**\n",
    "\n",
    "1. 找出最大字符串长度\n",
    "\n",
    "计算字符串的最大长度 $O(m)$，其中 $m$ 是字符串的个数。\n",
    "\n",
    "2. 逐位排序 \n",
    "\n",
    "对于每个字符位置，从最后一位到第一位进行排序，共进行 $\\text{max\\_len}$ 次排序，每次排序的时间复杂度是 $O(n)$，其中 $n$ 是所有字符串字符的总数。\n",
    "\n",
    "因此，逐位排序的总时间复杂度是 $O(n \\cdot \\text{max\\_len})$。\n",
    "\n",
    "3. 整体时间复杂度\n",
    "\n",
    "假设 $n$ 是所有字符串的总字符数，$k$ 是字符的范围（这里是 26 个小写字母），那么每次排序的时间复杂度是 $O(n)$，进行 $\\text{max\\_len}$ 轮排序，总时间复杂度为 $O(n \\cdot \\text{max\\_len})$。\n",
    "\n",
    "- 假设所有字符串的长度大致相等，那么 $\\text{max\\_len}$ 也是常数，导致整个算法的时间复杂度为 $O(n)$。"
   ]
  }
 ],
 "metadata": {
  "kernelspec": {
   "display_name": "base",
   "language": "python",
   "name": "python3"
  },
  "language_info": {
   "codemirror_mode": {
    "name": "ipython",
    "version": 3
   },
   "file_extension": ".py",
   "mimetype": "text/x-python",
   "name": "python",
   "nbconvert_exporter": "python",
   "pygments_lexer": "ipython3",
   "version": "3.12.7"
  }
 },
 "nbformat": 4,
 "nbformat_minor": 2
}
